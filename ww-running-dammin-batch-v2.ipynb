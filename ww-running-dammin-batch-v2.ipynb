{
 "cells": [
  {
   "cell_type": "code",
   "execution_count": 1,
   "metadata": {},
   "outputs": [],
   "source": [
    "import os\n",
    "import pyautogui\n",
    "import pynput\n",
    "import time\n",
    "import sys\n",
    "from tqdm import tqdm\n",
    "import shutil"
   ]
  },
  {
   "cell_type": "markdown",
   "metadata": {},
   "source": [
    " 1 primeiro abrir o console\n",
    " 2 dentro do console digitar dammin\n",
    " 3 no dammin digitar as opções"
   ]
  },
  {
   "cell_type": "code",
   "execution_count": 2,
   "metadata": {
    "collapsed": true
   },
   "outputs": [],
   "source": [
    "#terminal=\"konsole\"\n",
    "#app=os.system(terminal)\n",
    "wait1=time.sleep(2)\n",
    "#mt=pyautogui.position()\n",
    "mt=[769,85]\n",
    "mb=[769,678]"
   ]
  },
  {
   "cell_type": "markdown",
   "metadata": {
    "collapsed": true
   },
   "source": [
    "names = [os.path.join(os.getcwd(),'Log'+str(n)) for n in range(1,11)]\n",
    "#print(names)\n",
    "\n",
    "dirs = [os.mkdir(name) for name in names]\n",
    "\n",
    "for name in names:\n",
    "os.chdir(name)\n",
    "\n",
    "#f= open('teste2.txt','w') # só como exemplo\n",
    "#f.close()\n"
   ]
  },
  {
   "cell_type": "markdown",
   "metadata": {},
   "source": [
    "gnom_out_file= '/home/wwlysses/Documents/2018/20180209_wagner/FF-ND-COM-CAMPO/FF-ND-CC--080-T/T.out'\n",
    "print(gnom_out_file)\n",
    "#gnom_destination=os.path.join(os.getcwd(), name+'/T.out')\n",
    "#print(gnom_destination)"
   ]
  },
  {
   "cell_type": "markdown",
   "metadata": {},
   "source": [
    "# arquivo de saída do gnom\n",
    "gnom_out_file= '/home/wwlysses/Documents/2018/20180209_wagner/FF-ND-COM-CAMPO/FF-ND-CC--080-T/T.out'\n",
    "# 1 criando a lista de nomes para os diretorios de log\n",
    "names = [os.path.join(os.getcwd(),'Log'+str(n)) for n in range(1,11)]\n",
    "# 2 criando os diretorios de log\n",
    "dirs = [os.mkdir(name) for name in names]\n",
    "# 3 rodando o software dentro de cada diretorio\n",
    "out_file=[shutil.copyfile(gnom_out_file, os.path.join(os.getcwd(), str(name)+'/T.out')) for name in names]"
   ]
  },
  {
   "cell_type": "code",
   "execution_count": 3,
   "metadata": {},
   "outputs": [],
   "source": [
    "\n",
    "# arquivo de saída do gnom\n",
    "gnom_out_file= '/home/wwlysses/Documents/2018/20180209_wagner/FF-ND-COM-CAMPO/FF-ND-CC--080-T/T.out'\n",
    "# 1 criando a lista de nomes para os diretorios de log\n",
    "names = [os.path.join(os.getcwd(),'Log'+str(n)) for n in range(1,11)]\n",
    "# 2 criando os diretorios de log\n",
    "dirs = [os.mkdir(name) for name in names]\n",
    "# 3 rodando o software dentro de cada diretorio\n",
    "out_file=[shutil.copyfile(gnom_out_file, os.path.join(os.getcwd(), str(name)+'/T.out')) for name in names]\n"
   ]
  },
  {
   "cell_type": "code",
   "execution_count": 5,
   "metadata": {},
   "outputs": [
    {
     "name": "stderr",
     "output_type": "stream",
     "text": [
      "\n",
      "  0%|          | 0/10 [00:00<?, ?it/s]\u001b[A\n",
      " 20%|██        | 2/10 [30:04<2:00:18, 902.35s/it]"
     ]
    },
    {
     "ename": "KeyboardInterrupt",
     "evalue": "",
     "output_type": "error",
     "traceback": [
      "\u001b[0;31m---------------------------------------------------------------------------\u001b[0m",
      "\u001b[0;31mKeyboardInterrupt\u001b[0m                         Traceback (most recent call last)",
      "\u001b[0;32m<ipython-input-5-2b10e0941458>\u001b[0m in \u001b[0;36m<module>\u001b[0;34m()\u001b[0m\n\u001b[1;32m     20\u001b[0m     \u001b[0mpyautogui\u001b[0m\u001b[0;34m.\u001b[0m\u001b[0mtypewrite\u001b[0m\u001b[0;34m(\u001b[0m\u001b[0;34m'P'\u001b[0m\u001b[0;34m)\u001b[0m\u001b[0;34m\u001b[0m\u001b[0m\n\u001b[1;32m     21\u001b[0m     \u001b[0mpyautogui\u001b[0m\u001b[0;34m.\u001b[0m\u001b[0mpress\u001b[0m\u001b[0;34m(\u001b[0m\u001b[0;34m'enter'\u001b[0m\u001b[0;34m)\u001b[0m\u001b[0;34m\u001b[0m\u001b[0m\n\u001b[0;32m---> 22\u001b[0;31m     \u001b[0mwait2\u001b[0m\u001b[0;34m=\u001b[0m\u001b[0mtime\u001b[0m\u001b[0;34m.\u001b[0m\u001b[0msleep\u001b[0m\u001b[0;34m(\u001b[0m\u001b[0;36m900\u001b[0m\u001b[0;34m)\u001b[0m\u001b[0;34m\u001b[0m\u001b[0m\n\u001b[0m\u001b[1;32m     23\u001b[0m     \u001b[0mmv_mouse\u001b[0m\u001b[0;34m=\u001b[0m\u001b[0mpyautogui\u001b[0m\u001b[0;34m.\u001b[0m\u001b[0mmoveTo\u001b[0m\u001b[0;34m(\u001b[0m\u001b[0mmb\u001b[0m\u001b[0;34m[\u001b[0m\u001b[0;36m0\u001b[0m\u001b[0;34m]\u001b[0m\u001b[0;34m,\u001b[0m\u001b[0mmb\u001b[0m\u001b[0;34m[\u001b[0m\u001b[0;36m1\u001b[0m\u001b[0;34m]\u001b[0m\u001b[0;34m)\u001b[0m\u001b[0;34m\u001b[0m\u001b[0m\n\u001b[1;32m     24\u001b[0m     \u001b[0mmouse_click\u001b[0m\u001b[0;34m=\u001b[0m\u001b[0mpyautogui\u001b[0m\u001b[0;34m.\u001b[0m\u001b[0mclick\u001b[0m\u001b[0;34m(\u001b[0m\u001b[0mmb\u001b[0m\u001b[0;34m[\u001b[0m\u001b[0;36m0\u001b[0m\u001b[0;34m]\u001b[0m\u001b[0;34m,\u001b[0m\u001b[0mmb\u001b[0m\u001b[0;34m[\u001b[0m\u001b[0;36m1\u001b[0m\u001b[0;34m]\u001b[0m\u001b[0;34m)\u001b[0m\u001b[0;34m\u001b[0m\u001b[0m\n",
      "\u001b[0;31mKeyboardInterrupt\u001b[0m: "
     ]
    }
   ],
   "source": [
    "i=1\n",
    "for name in tqdm(names):\n",
    "    #os.chdir(name[i])\n",
    "    mv_mouse=pyautogui.moveTo(mt[0],mt[1])\n",
    "    mouse_click=pyautogui.click(mt[0],mt[1])\n",
    "    software=\"dammin\"\n",
    "    pyautogui.typewrite(software)\n",
    "    pyautogui.press('enter')\n",
    "    pyautogui.press('enter')\n",
    "    pyautogui.typewrite('T0'+str(i))\n",
    "    pyautogui.press('enter')\n",
    "    pyautogui.typewrite(\"T.out\")\n",
    "    pyautogui.press('enter')\n",
    "    pyautogui.press('enter')\n",
    "    pyautogui.press('enter')\n",
    "    pyautogui.press('enter')\n",
    "    pyautogui.press('enter')\n",
    "    pyautogui.typewrite('P1')\n",
    "    pyautogui.press('enter')\n",
    "    pyautogui.typewrite('P')\n",
    "    pyautogui.press('enter')\n",
    "    wait2=time.sleep(900)\n",
    "    mv_mouse=pyautogui.moveTo(mb[0],mb[1])\n",
    "    mouse_click=pyautogui.click(mb[0],mb[1])\n",
    "    pyautogui.typewrite('clear')\n",
    "    pyautogui.press('enter')\n",
    "    i=i+1"
   ]
  },
  {
   "cell_type": "code",
   "execution_count": null,
   "metadata": {},
   "outputs": [],
   "source": [
    "# Moving files to folders\n",
    "import itertools\n",
    "files = [\"file1\",\"file2\",\"file3\",\"file4\"]\n",
    "folders = [\"folder1\",\"folder2\"]\n",
    "for file, folder in zip(files, itertools.cycle(folders)):\n",
    "    print(\"move {} to {}\".format(file, folder)) "
   ]
  },
  {
   "cell_type": "code",
   "execution_count": null,
   "metadata": {
    "collapsed": true
   },
   "outputs": [],
   "source": [
    "# another solution for moving files\n",
    "def walk(top):\n",
    "    directory = Nonefireblade12\n",
    "    \n",
    "    for root, dirs, files in os.walk(top, topdown=False):\n",
    "        for name in dirs:\n",
    "            directory = os.path.join(root, name)\n",
    "        for name in files:\n",
    "            f1 = os.path.join(root, name)\n",
    "            if not f1.endswith('.py') and directory:\n",
    "                shutil.move(f1,directory)\n",
    "\n",
    "\n",
    "walk(os.path.realpath(os.curdir))"
   ]
  }
 ],
 "metadata": {
  "kernelspec": {
   "display_name": "Python 3",
   "language": "python",
   "name": "python3"
  },
  "language_info": {
   "codemirror_mode": {
    "name": "ipython",
    "version": 3
   },
   "file_extension": ".py",
   "mimetype": "text/x-python",
   "name": "python",
   "nbconvert_exporter": "python",
   "pygments_lexer": "ipython3",
   "version": "3.6.1"
  }
 },
 "nbformat": 4,
 "nbformat_minor": 2
}
