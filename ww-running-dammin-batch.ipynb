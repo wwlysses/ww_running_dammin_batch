{
 "cells": [
  {
   "cell_type": "code",
   "execution_count": 1,
   "metadata": {
    "collapsed": true
   },
   "outputs": [],
   "source": [
    "import os\n",
    "import pyautogui\n",
    "import pynput\n",
    "import time\n",
    "import sys"
   ]
  },
  {
   "cell_type": "markdown",
   "metadata": {},
   "source": [
    " 1 primeiro abrir o console\n",
    " 2 dentro do console digitar dammin\n",
    " 3 no dammin digitar as opções"
   ]
  },
  {
   "cell_type": "code",
   "execution_count": 2,
   "metadata": {},
   "outputs": [],
   "source": [
    "#terminal=\"konsole\"\n",
    "#app=os.system(terminal)\n",
    "wait1=time.sleep(2)\n",
    "#mt=pyautogui.position()\n",
    "mt=[769,85]\n",
    "mb=[769,678]"
   ]
  },
  {
   "cell_type": "code",
   "execution_count": 4,
   "metadata": {
    "collapsed": true
   },
   "outputs": [],
   "source": [
    "for i in range(2,11):\n",
    "    mv_mouse=pyautogui.moveTo(mt[0],mt[1])\n",
    "    mouse_click=pyautogui.click(mt[0],mt[1])\n",
    "    software=\"dammin\"\n",
    "    pyautogui.typewrite(software)\n",
    "    pyautogui.press('enter')\n",
    "    pyautogui.press('enter')\n",
    "    pyautogui.typewrite('T0'+str(i))\n",
    "    pyautogui.press('enter')\n",
    "    pyautogui.typewrite(\"T.out\")\n",
    "    pyautogui.press('enter')\n",
    "    pyautogui.press('enter')\n",
    "    pyautogui.press('enter')\n",
    "    pyautogui.press('enter')\n",
    "    pyautogui.press('enter')\n",
    "    pyautogui.typewrite('P1')\n",
    "    pyautogui.press('enter')\n",
    "    pyautogui.typewrite('P')\n",
    "    pyautogui.press('enter')\n",
    "    wait2=time.sleep(900)\n",
    "    mv_mouse=pyautogui.moveTo(mb[0],mb[1])\n",
    "    mouse_click=pyautogui.click(mb[0],mb[1])\n",
    "    pyautogui.typewrite('clear')\n",
    "    pyautogui.press('enter')"
   ]
  },
  {
   "cell_type": "code",
   "execution_count": null,
   "metadata": {
    "collapsed": true
   },
   "outputs": [],
   "source": [
    "# Moving files to folders\n",
    "import itertools\n",
    "files = [\"file1\",\"file2\",\"file3\",\"file4\"]\n",
    "folders = [\"folder1\",\"folder2\"]\n",
    "for file, folder in zip(files, itertools.cycle(folders)):\n",
    "    print(\"move {} to {}\".format(file, folder)) "
   ]
  },
  {
   "cell_type": "code",
   "execution_count": null,
   "metadata": {
    "collapsed": true
   },
   "outputs": [],
   "source": [
    "# another solution for moving files\n",
    "def walk(top):\n",
    "    directory = None\n",
    "    for root, dirs, files in os.walk(top, topdown=False):\n",
    "        for name in dirs:\n",
    "            directory = os.path.join(root, name)\n",
    "        for name in files:\n",
    "            f1 = os.path.join(root, name)\n",
    "            if not f1.endswith('.py') and directory:\n",
    "                shutil.move(f1,directory)\n",
    "\n",
    "\n",
    "walk(os.path.realpath(os.curdir))"
   ]
  }
 ],
 "metadata": {
  "kernelspec": {
   "display_name": "Python 3",
   "language": "python",
   "name": "python3"
  },
  "language_info": {
   "codemirror_mode": {
    "name": "ipython",
    "version": 3
   },
   "file_extension": ".py",
   "mimetype": "text/x-python",
   "name": "python",
   "nbconvert_exporter": "python",
   "pygments_lexer": "ipython3",
   "version": "3.6.1"
  }
 },
 "nbformat": 4,
 "nbformat_minor": 2
}
